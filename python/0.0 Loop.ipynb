{
 "cells": [
  {
   "cell_type": "code",
   "execution_count": 9,
   "id": "59dfd81a",
   "metadata": {},
   "outputs": [
    {
     "data": {
      "text/plain": [
       "2"
      ]
     },
     "execution_count": 9,
     "metadata": {},
     "output_type": "execute_result"
    }
   ],
   "source": [
    "1+1"
   ]
  },
  {
   "cell_type": "code",
   "execution_count": 10,
   "id": "e90ccd48",
   "metadata": {},
   "outputs": [
    {
     "data": {
      "text/plain": [
       "8"
      ]
     },
     "execution_count": 10,
     "metadata": {},
     "output_type": "execute_result"
    }
   ],
   "source": [
    "2**3"
   ]
  },
  {
   "cell_type": "code",
   "execution_count": 13,
   "id": "6bd101b6",
   "metadata": {},
   "outputs": [
    {
     "name": "stdout",
     "output_type": "stream",
     "text": [
      "Enter value:45\n"
     ]
    },
    {
     "data": {
      "text/plain": [
       "'45'"
      ]
     },
     "execution_count": 13,
     "metadata": {},
     "output_type": "execute_result"
    }
   ],
   "source": [
    "input('Enter value:')"
   ]
  },
  {
   "cell_type": "code",
   "execution_count": 7,
   "id": "2116e72c",
   "metadata": {},
   "outputs": [
    {
     "name": "stdout",
     "output_type": "stream",
     "text": [
      "Voila!!\n"
     ]
    }
   ],
   "source": [
    "day = 'tuesday'\n",
    "if day == 'tuesday':\n",
    "    print(\"Voila!!\")\n",
    "else: print(\"Not Voila!!\")"
   ]
  },
  {
   "cell_type": "code",
   "execution_count": 1,
   "id": "fa479dc2",
   "metadata": {},
   "outputs": [
    {
     "name": "stdout",
     "output_type": "stream",
     "text": [
      "the number is 0\n",
      "the number is 1\n",
      "the number is 2\n",
      "the number is 3\n",
      "the number is 4\n",
      "the number is 5\n",
      "the number is 6\n",
      "the number is 7\n",
      "the number is 8\n",
      "the number is 9\n",
      "End🕯️\n"
     ]
    }
   ],
   "source": [
    "x = 0\n",
    "while x<10:\n",
    "    print(\"the number is\",x)\n",
    "    x+=1\n",
    "else:\n",
    "    print(\"End🕯️\")"
   ]
  },
  {
   "cell_type": "code",
   "execution_count": 3,
   "id": "6bab3342",
   "metadata": {},
   "outputs": [
    {
     "name": "stdout",
     "output_type": "stream",
     "text": [
      "1\n",
      "2\n",
      "4\n",
      "5\n",
      "6\n",
      "7\n",
      "8\n"
     ]
    }
   ],
   "source": [
    "x = 0 \n",
    "while x<10:\n",
    "    x+=1\n",
    "    if x==3:continue\n",
    "    if x==5:pass    \n",
    "    if x==9:break\n",
    "    print(x)  "
   ]
  },
  {
   "cell_type": "code",
   "execution_count": 4,
   "id": "91f7b265",
   "metadata": {},
   "outputs": [
    {
     "name": "stdout",
     "output_type": "stream",
     "text": [
      "[0, 1, 2, 3, 4, 5, 6, 7, 8, 9, 10]\n",
      "[0, 2, 4, 6, 8, 10]\n",
      "[0, 10, 20, 30, 40, 50, 60, 70, 80, 90, 100]\n"
     ]
    }
   ],
   "source": [
    "print(list(range(0,11)))\n",
    "print(list(range(0,11,2)))\n",
    "print(list(range(0,101,10)))\n",
    "## start element is included end element is excluded"
   ]
  },
  {
   "cell_type": "code",
   "execution_count": 5,
   "id": "6fd0bde9",
   "metadata": {},
   "outputs": [
    {
     "name": "stdout",
     "output_type": "stream",
     "text": [
      "0:s\n",
      "1:i\n",
      "2:m\n",
      "3:p\n",
      "4:l\n",
      "5:i\n",
      "6:l\n",
      "7:e\n",
      "8:a\n",
      "9:r\n",
      "10:n\n"
     ]
    }
   ],
   "source": [
    "# enumerate\n",
    "index=0\n",
    "for letter in 'simplilearn':\n",
    "    print(\"{}:{}\".format(index,letter))\n",
    "    index+=1"
   ]
  },
  {
   "cell_type": "code",
   "execution_count": 6,
   "id": "38e00b90",
   "metadata": {},
   "outputs": [
    {
     "name": "stdout",
     "output_type": "stream",
     "text": [
      "0:s\n",
      "1:i\n",
      "2:m\n",
      "3:p\n",
      "4:l\n",
      "5:i\n",
      "6:l\n",
      "7:e\n",
      "8:a\n",
      "9:r\n",
      "10:n\n"
     ]
    }
   ],
   "source": [
    "for i,letter in enumerate('simplilearn'):\n",
    "    print(\"{}:{}\".format(i,letter))"
   ]
  },
  {
   "cell_type": "code",
   "execution_count": 11,
   "id": "a6babc60",
   "metadata": {},
   "outputs": [
    {
     "data": {
      "text/plain": [
       "[(0, 's'),\n",
       " (1, 'i'),\n",
       " (2, 'm'),\n",
       " (3, 'p'),\n",
       " (4, 'l'),\n",
       " (5, 'i'),\n",
       " (6, 'l'),\n",
       " (7, 'e'),\n",
       " (8, 'a'),\n",
       " (9, 'r'),\n",
       " (10, 'n')]"
      ]
     },
     "execution_count": 11,
     "metadata": {},
     "output_type": "execute_result"
    }
   ],
   "source": [
    "list(enumerate('simplilearn'))"
   ]
  },
  {
   "cell_type": "code",
   "execution_count": 12,
   "id": "753a8ca8",
   "metadata": {},
   "outputs": [
    {
     "name": "stdout",
     "output_type": "stream",
     "text": [
      "[(1, 'a'), (2, 'b'), (3, 'c'), (4, 'd'), (5, 'e')]\n",
      "1:a\n",
      "2:b\n",
      "3:c\n",
      "4:d\n",
      "5:e\n"
     ]
    }
   ],
   "source": [
    "mylist1=[1,2,3,4,5]\n",
    "mylist2=['a','b','c','d','e']\n",
    "print(list(zip(mylist1,mylist2)))\n",
    "for item1,item2 in zip(mylist1,mylist2):\n",
    "    print(\"{}:{}\".format(item1,item2))"
   ]
  },
  {
   "cell_type": "code",
   "execution_count": null,
   "id": "74c06b6b",
   "metadata": {},
   "outputs": [],
   "source": []
  }
 ],
 "metadata": {
  "kernelspec": {
   "display_name": "Python 3 (ipykernel)",
   "language": "python",
   "name": "python3"
  },
  "language_info": {
   "codemirror_mode": {
    "name": "ipython",
    "version": 3
   },
   "file_extension": ".py",
   "mimetype": "text/x-python",
   "name": "python",
   "nbconvert_exporter": "python",
   "pygments_lexer": "ipython3",
   "version": "3.11.3"
  }
 },
 "nbformat": 4,
 "nbformat_minor": 5
}
