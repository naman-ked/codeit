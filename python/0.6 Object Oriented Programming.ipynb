{
 "cells": [
  {
   "cell_type": "code",
   "execution_count": 2,
   "id": "f9be0b8b",
   "metadata": {},
   "outputs": [],
   "source": [
    "## Object is a real world entity which exhibits some behaviours and actions and has properties. "
   ]
  },
  {
   "cell_type": "code",
   "execution_count": 3,
   "id": "24b654d0",
   "metadata": {},
   "outputs": [],
   "source": [
    "lst = [1,2,3] #This object is already defined in python"
   ]
  },
  {
   "cell_type": "code",
   "execution_count": 4,
   "id": "6ec16418",
   "metadata": {},
   "outputs": [
    {
     "data": {
      "text/plain": [
       "1"
      ]
     },
     "execution_count": 4,
     "metadata": {},
     "output_type": "execute_result"
    }
   ],
   "source": [
    "lst.count(2)"
   ]
  },
  {
   "cell_type": "code",
   "execution_count": 39,
   "id": "7815a63d",
   "metadata": {},
   "outputs": [],
   "source": [
    "## How do you create a user defined object\n",
    "## Using CLASS keyword you can define nature of a future object\n",
    "## self is a predefined keyword that denotes current object "
   ]
  },
  {
   "cell_type": "code",
   "execution_count": 40,
   "id": "d785b67a",
   "metadata": {},
   "outputs": [],
   "source": [
    "class Sample:\n",
    "    pass"
   ]
  },
  {
   "cell_type": "code",
   "execution_count": 41,
   "id": "298e8007",
   "metadata": {},
   "outputs": [],
   "source": [
    "x=Sample()"
   ]
  },
  {
   "cell_type": "code",
   "execution_count": 42,
   "id": "3297872d",
   "metadata": {},
   "outputs": [
    {
     "data": {
      "text/plain": [
       "__main__.Sample"
      ]
     },
     "execution_count": 42,
     "metadata": {},
     "output_type": "execute_result"
    }
   ],
   "source": [
    "type(x)"
   ]
  },
  {
   "cell_type": "code",
   "execution_count": 43,
   "id": "d2a85592",
   "metadata": {},
   "outputs": [],
   "source": [
    "## __init__() --> used to initialize the attribute of an object"
   ]
  },
  {
   "cell_type": "code",
   "execution_count": 44,
   "id": "0def936f",
   "metadata": {},
   "outputs": [],
   "source": [
    "class Dog:\n",
    "    #class object attribute every obeject should have these attributes\n",
    "    species='mammal'\n",
    "    def __init__(self, breed, name):\n",
    "        self.breed=breed\n",
    "        self.name=name\n",
    "        \n",
    "sam= Dog(breed='Labrador',name='Sam')        "
   ]
  },
  {
   "cell_type": "code",
   "execution_count": 45,
   "id": "1bbe7175",
   "metadata": {},
   "outputs": [
    {
     "data": {
      "text/plain": [
       "__main__.Dog"
      ]
     },
     "execution_count": 45,
     "metadata": {},
     "output_type": "execute_result"
    }
   ],
   "source": [
    "type(sam)"
   ]
  },
  {
   "cell_type": "code",
   "execution_count": 46,
   "id": "8e9c4522",
   "metadata": {},
   "outputs": [],
   "source": [
    "frank = Dog(breed='Huskie', name='frank')"
   ]
  },
  {
   "cell_type": "code",
   "execution_count": 47,
   "id": "d7d7aae5",
   "metadata": {},
   "outputs": [
    {
     "data": {
      "text/plain": [
       "__main__.Dog"
      ]
     },
     "execution_count": 47,
     "metadata": {},
     "output_type": "execute_result"
    }
   ],
   "source": [
    "type(frank)"
   ]
  },
  {
   "cell_type": "code",
   "execution_count": 48,
   "id": "8b3109fa",
   "metadata": {},
   "outputs": [
    {
     "data": {
      "text/plain": [
       "'Labrador'"
      ]
     },
     "execution_count": 48,
     "metadata": {},
     "output_type": "execute_result"
    }
   ],
   "source": [
    "sam.breed"
   ]
  },
  {
   "cell_type": "code",
   "execution_count": 49,
   "id": "69c0b009",
   "metadata": {},
   "outputs": [
    {
     "data": {
      "text/plain": [
       "'mammal'"
      ]
     },
     "execution_count": 49,
     "metadata": {},
     "output_type": "execute_result"
    }
   ],
   "source": [
    "frank.species"
   ]
  },
  {
   "cell_type": "code",
   "execution_count": 37,
   "id": "6e395831",
   "metadata": {},
   "outputs": [
    {
     "data": {
      "text/plain": [
       "'Sam'"
      ]
     },
     "execution_count": 37,
     "metadata": {},
     "output_type": "execute_result"
    }
   ],
   "source": [
    "sam.name"
   ]
  },
  {
   "cell_type": "code",
   "execution_count": 50,
   "id": "6f5c8f7f",
   "metadata": {},
   "outputs": [],
   "source": [
    "## methonds : Functions defined inside the body of a class\n",
    "## They are used to perform operations of a class"
   ]
  },
  {
   "cell_type": "code",
   "execution_count": 9,
   "id": "9585f47d",
   "metadata": {},
   "outputs": [],
   "source": [
    "class Circle:\n",
    "    pie = 3.14\n",
    "    def __init__(self,radius=1):\n",
    "        ## runs when the object is being initialized\n",
    "        self.radius=radius\n",
    "        self.area=Circle.pie*radius*radius\n",
    "    def setRadius(self, new_radius):\n",
    "        self.radius = new_radius\n",
    "        self.area = new_radius*new_radius*Circle.pie\n",
    "    def getCircum(self):\n",
    "        return self.radius * self.pie * 2"
   ]
  },
  {
   "cell_type": "code",
   "execution_count": 10,
   "id": "bad77077",
   "metadata": {},
   "outputs": [],
   "source": [
    "c=Circle()"
   ]
  },
  {
   "cell_type": "code",
   "execution_count": 11,
   "id": "8c9ad083",
   "metadata": {},
   "outputs": [
    {
     "data": {
      "text/plain": [
       "1"
      ]
     },
     "execution_count": 11,
     "metadata": {},
     "output_type": "execute_result"
    }
   ],
   "source": [
    "c.radius"
   ]
  },
  {
   "cell_type": "code",
   "execution_count": 12,
   "id": "17f95b41",
   "metadata": {},
   "outputs": [
    {
     "data": {
      "text/plain": [
       "3.14"
      ]
     },
     "execution_count": 12,
     "metadata": {},
     "output_type": "execute_result"
    }
   ],
   "source": [
    "c.area"
   ]
  },
  {
   "cell_type": "code",
   "execution_count": 13,
   "id": "71203f0d",
   "metadata": {},
   "outputs": [
    {
     "data": {
      "text/plain": [
       "6.28"
      ]
     },
     "execution_count": 13,
     "metadata": {},
     "output_type": "execute_result"
    }
   ],
   "source": [
    "c.getCircum()"
   ]
  },
  {
   "cell_type": "code",
   "execution_count": 14,
   "id": "e3dff861",
   "metadata": {},
   "outputs": [],
   "source": [
    "c.setRadius(2)"
   ]
  },
  {
   "cell_type": "code",
   "execution_count": 15,
   "id": "c7ca89a4",
   "metadata": {},
   "outputs": [
    {
     "data": {
      "text/plain": [
       "12.56"
      ]
     },
     "execution_count": 15,
     "metadata": {},
     "output_type": "execute_result"
    }
   ],
   "source": [
    "c.getCircum()"
   ]
  },
  {
   "cell_type": "code",
   "execution_count": 18,
   "id": "1ee7fc0a",
   "metadata": {},
   "outputs": [],
   "source": [
    "## inheritance - A way to form new classes that have already been defined \n",
    "## new formed class --> called -->derived class\n",
    "## from which class being derived -->called  --> base class\n",
    "## code reusability and reduction of complexity of a program"
   ]
  },
  {
   "cell_type": "code",
   "execution_count": 32,
   "id": "f0c54d20",
   "metadata": {},
   "outputs": [],
   "source": [
    "class Animal:\n",
    "    def __init__(self):\n",
    "        print('Animal created')\n",
    "    def whoAmI(self):\n",
    "        raise NotImplementedError('Subclass must implement abstract method')\n",
    "        print('Animal')\n",
    "    def eat(self):\n",
    "        print('Eating')"
   ]
  },
  {
   "cell_type": "code",
   "execution_count": 41,
   "id": "5499634e",
   "metadata": {},
   "outputs": [],
   "source": [
    "class Dog(Animal):\n",
    "    def __init__(self):\n",
    "        print('Dog created')\n",
    "    def whoAmI(self):\n",
    "        print('Dog')\n",
    "    def bark(self):\n",
    "        print('Whoof!')"
   ]
  },
  {
   "cell_type": "code",
   "execution_count": 42,
   "id": "6e3a06a6",
   "metadata": {},
   "outputs": [
    {
     "name": "stdout",
     "output_type": "stream",
     "text": [
      "Dog created\n"
     ]
    }
   ],
   "source": [
    "d= Dog()"
   ]
  },
  {
   "cell_type": "code",
   "execution_count": 43,
   "id": "329d67b7",
   "metadata": {},
   "outputs": [
    {
     "name": "stdout",
     "output_type": "stream",
     "text": [
      "Eating\n"
     ]
    }
   ],
   "source": [
    "d.eat()"
   ]
  },
  {
   "cell_type": "code",
   "execution_count": 44,
   "id": "b93c1ce4",
   "metadata": {},
   "outputs": [
    {
     "name": "stdout",
     "output_type": "stream",
     "text": [
      "Dog\n"
     ]
    }
   ],
   "source": [
    "d.whoAmI()"
   ]
  },
  {
   "cell_type": "code",
   "execution_count": 29,
   "id": "56369426",
   "metadata": {},
   "outputs": [
    {
     "name": "stdout",
     "output_type": "stream",
     "text": [
      "Animal created\n"
     ]
    }
   ],
   "source": [
    "a = Animal()"
   ]
  },
  {
   "cell_type": "code",
   "execution_count": 46,
   "id": "85edcd8b",
   "metadata": {},
   "outputs": [],
   "source": [
    "## Every Python class has some built in methods __str__(self) __len__(self) __del__(self):pass"
   ]
  },
  {
   "cell_type": "code",
   "execution_count": 48,
   "id": "debddb45",
   "metadata": {},
   "outputs": [],
   "source": [
    "class Book:\n",
    "    def __init__(self,title,author,pages):\n",
    "        print('A book is created')\n",
    "        self.title=title\n",
    "        self.author=author\n",
    "        self.pages=pages\n",
    "    def __str__(self):\n",
    "        return \"Title: %s, author: %s, pages: %s \"%(self.title,self.author,self.pages)\n",
    "    def __len__(self):\n",
    "        return self.pages\n",
    "    def __del__(self):\n",
    "        print('A book is destroyed')\n",
    "        "
   ]
  },
  {
   "cell_type": "code",
   "execution_count": 49,
   "id": "04db56ce",
   "metadata": {},
   "outputs": [
    {
     "name": "stdout",
     "output_type": "stream",
     "text": [
      "A book is created\n"
     ]
    }
   ],
   "source": [
    "book = Book(\"Simplilearn python rocks!\",\"Adam\",156)"
   ]
  },
  {
   "cell_type": "code",
   "execution_count": 50,
   "id": "18d137a3",
   "metadata": {},
   "outputs": [
    {
     "name": "stdout",
     "output_type": "stream",
     "text": [
      "Title: Simplilearn python rocks!, author: Adam, pages: 156 \n"
     ]
    }
   ],
   "source": [
    "print(book)"
   ]
  },
  {
   "cell_type": "code",
   "execution_count": 51,
   "id": "49570099",
   "metadata": {},
   "outputs": [
    {
     "name": "stdout",
     "output_type": "stream",
     "text": [
      "156\n"
     ]
    }
   ],
   "source": [
    "print(len(book))"
   ]
  },
  {
   "cell_type": "code",
   "execution_count": 52,
   "id": "fa4b4315",
   "metadata": {},
   "outputs": [
    {
     "name": "stdout",
     "output_type": "stream",
     "text": [
      "A book is destroyed\n"
     ]
    }
   ],
   "source": [
    "del book"
   ]
  },
  {
   "cell_type": "code",
   "execution_count": 56,
   "id": "19ad8b6b",
   "metadata": {},
   "outputs": [
    {
     "name": "stdout",
     "output_type": "stream",
     "text": [
      "55\n",
      "50\n"
     ]
    }
   ],
   "source": [
    "x= 55 ## Global Variable\n",
    "\n",
    "def printer():\n",
    "    x=50 ## Local variable\n",
    "    return x\n",
    "    \n",
    "print(x)    \n",
    "print(printer())"
   ]
  },
  {
   "cell_type": "code",
   "execution_count": 59,
   "id": "392d6282",
   "metadata": {},
   "outputs": [],
   "source": [
    "## Python has a set of rules it follows to decide what variables you are refering to!\n",
    "##    L: Local \n",
    "##    E: Enclosing function locals \n",
    "##    G: Global \n",
    "##    B: Built in  "
   ]
  },
  {
   "cell_type": "code",
   "execution_count": 60,
   "id": "ef1d7388",
   "metadata": {},
   "outputs": [],
   "source": [
    "def test(x):\n",
    "    x=x**2\n",
    "    return x"
   ]
  },
  {
   "cell_type": "code",
   "execution_count": 61,
   "id": "f4084203",
   "metadata": {},
   "outputs": [],
   "source": [
    "f= lambda x:x**2"
   ]
  },
  {
   "cell_type": "code",
   "execution_count": 62,
   "id": "18f0956b",
   "metadata": {},
   "outputs": [
    {
     "data": {
      "text/plain": [
       "25"
      ]
     },
     "execution_count": 62,
     "metadata": {},
     "output_type": "execute_result"
    }
   ],
   "source": [
    "f(5)"
   ]
  },
  {
   "cell_type": "code",
   "execution_count": 65,
   "id": "aca327ae",
   "metadata": {},
   "outputs": [],
   "source": [
    "name='This a global variable name'\n",
    "def greet():\n",
    "    # Enclosing function\n",
    "    name='Naman'\n",
    "    def hello():\n",
    "        print('Hello '+name)\n",
    "    hello()    "
   ]
  },
  {
   "cell_type": "code",
   "execution_count": 66,
   "id": "dfac9c1a",
   "metadata": {},
   "outputs": [
    {
     "name": "stdout",
     "output_type": "stream",
     "text": [
      "Hello Naman\n"
     ]
    }
   ],
   "source": [
    "greet()"
   ]
  },
  {
   "cell_type": "code",
   "execution_count": 69,
   "id": "82041e58",
   "metadata": {},
   "outputs": [],
   "source": [
    "name='This a global variable name'\n",
    "def greet():\n",
    "    # Refer global variable\n",
    "    global name\n",
    "    def hello():\n",
    "        print('Hello '+name)\n",
    "    hello()    "
   ]
  },
  {
   "cell_type": "code",
   "execution_count": 70,
   "id": "a5555111",
   "metadata": {},
   "outputs": [
    {
     "name": "stdout",
     "output_type": "stream",
     "text": [
      "Hello This a global variable name\n"
     ]
    }
   ],
   "source": [
    "greet()"
   ]
  },
  {
   "cell_type": "code",
   "execution_count": null,
   "id": "d9aaa517",
   "metadata": {},
   "outputs": [],
   "source": []
  }
 ],
 "metadata": {
  "kernelspec": {
   "display_name": "Python 3 (ipykernel)",
   "language": "python",
   "name": "python3"
  },
  "language_info": {
   "codemirror_mode": {
    "name": "ipython",
    "version": 3
   },
   "file_extension": ".py",
   "mimetype": "text/x-python",
   "name": "python",
   "nbconvert_exporter": "python",
   "pygments_lexer": "ipython3",
   "version": "3.11.3"
  }
 },
 "nbformat": 4,
 "nbformat_minor": 5
}
